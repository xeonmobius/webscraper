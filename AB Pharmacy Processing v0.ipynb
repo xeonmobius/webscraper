{
 "cells": [
  {
   "cell_type": "code",
   "execution_count": null,
   "metadata": {},
   "outputs": [],
   "source": [
    "import pandas as pd"
   ]
  },
  {
   "cell_type": "code",
   "execution_count": null,
   "metadata": {},
   "outputs": [],
   "source": [
    "df = pd.read_csv('./csv/AB Pharmacy.csv')"
   ]
  },
  {
   "cell_type": "code",
   "execution_count": null,
   "metadata": {},
   "outputs": [],
   "source": [
    "#df['info'][1].split(',')[2].replace('\\r', '').split('\\n')[3].replace('T: ', '')"
   ]
  },
  {
   "cell_type": "code",
   "execution_count": null,
   "metadata": {},
   "outputs": [],
   "source": [
    "# Use an anonymous function to split the info string by \",\" and grab the first part\n",
    "df['Street'] = df['Info'].map(lambda x: x.split(',')[0])\n",
    "\n",
    "# Use an anonymous function to split the info string by \",\" adn grab the second part\n",
    "df['City'] = df['Info'].map(lambda x: x.split(',')[1])\n",
    "\n",
    "# Use an anonymous function to split the info string by \",\" adn grab the part part and remove weird characters\n",
    "df['Postal Code'] = df['Info'].map(lambda x: x.split(',')[2].replace('\\r', '').split('\\n')[0].strip())\n",
    "\n",
    "# Drop the info col since we extracted everything\n",
    "df.drop(columns={'info'}, axis=1, inplace=True)"
   ]
  },
  {
   "cell_type": "code",
   "execution_count": null,
   "metadata": {
    "scrolled": false
   },
   "outputs": [],
   "source": [
    "df.to_csv('./csv/AB Pharmacy.csv', index=False)"
   ]
  }
 ],
 "metadata": {
  "kernelspec": {
   "display_name": "Python 3",
   "language": "python",
   "name": "python3"
  },
  "language_info": {
   "codemirror_mode": {
    "name": "ipython",
    "version": 3
   },
   "file_extension": ".py",
   "mimetype": "text/x-python",
   "name": "python",
   "nbconvert_exporter": "python",
   "pygments_lexer": "ipython3",
   "version": "3.6.8"
  }
 },
 "nbformat": 4,
 "nbformat_minor": 2
}
