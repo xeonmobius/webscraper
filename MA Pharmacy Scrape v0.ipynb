{
 "cells": [
  {
   "cell_type": "code",
   "execution_count": null,
   "metadata": {},
   "outputs": [],
   "source": [
    "import time as time\n",
    "import pandas as pd\n",
    "\n",
    "from selenium import webdriver "
   ]
  },
  {
   "cell_type": "code",
   "execution_count": null,
   "metadata": {},
   "outputs": [],
   "source": [
    "# URL with the search\n",
    "url = 'https://mpha.in1touch.org/company/roster/companyRosterView.html?companyRosterId=5&page='\n",
    "\n",
    "# Create empty global dataframe\n",
    "df = pd.DataFrame()"
   ]
  },
  {
   "cell_type": "code",
   "execution_count": null,
   "metadata": {},
   "outputs": [],
   "source": [
    "option = webdriver.ChromeOptions()\n",
    "option.add_argument('-incognito')\n",
    "\n",
    "browser = webdriver.Chrome(executable_path='../chromedriver', chrome_options=option)"
   ]
  },
  {
   "cell_type": "code",
   "execution_count": null,
   "metadata": {},
   "outputs": [],
   "source": [
    "# Loop through the pages using the url query\n",
    "for i in range(1,9):\n",
    "    \n",
    "    # Go to current indext page\n",
    "    browser.get(url+str(i))\n",
    "    \n",
    "    # Grab the table\n",
    "    div = browser.find_element_by_id('rosterRecords')\n",
    "    \n",
    "    # Grab each tbody in the table\n",
    "    table = div.find_elements_by_tag_name('tbody')\n",
    "    \n",
    "    # For each tbody start extracting the information\n",
    "    for tbody in table:\n",
    "        \n",
    "        # Grab the relevant info \n",
    "        pharmacy = tbody.find_elements_by_tag_name('tr')[0].text\n",
    "        requirementsMetFor19 = tbody.find_elements_by_tag_name('tr')[1].text.split()[-1]\n",
    "        address = tbody.find_elements_by_tag_name('tr')[2].text\n",
    "        \n",
    "        # Package the info into a dict\n",
    "        data = {'Pharmacy': pharmacy,\n",
    "                'Address': address,\n",
    "                'Requirements met for 19': requirementsMetFor19}\n",
    "        # Append to dataframe\n",
    "        df = df.append(data, ignore_index=True)\n",
    "    \n",
    "    # Wait 1.5 seconds for next page to load\n",
    "    time.sleep(1.5)"
   ]
  },
  {
   "cell_type": "code",
   "execution_count": null,
   "metadata": {},
   "outputs": [],
   "source": [
    "df.to_csv('./csv/MA Pharmacy.csv', index=False)"
   ]
  }
 ],
 "metadata": {
  "kernelspec": {
   "display_name": "Python 3",
   "language": "python",
   "name": "python3"
  },
  "language_info": {
   "codemirror_mode": {
    "name": "ipython",
    "version": 3
   },
   "file_extension": ".py",
   "mimetype": "text/x-python",
   "name": "python",
   "nbconvert_exporter": "python",
   "pygments_lexer": "ipython3",
   "version": "3.6.8"
  }
 },
 "nbformat": 4,
 "nbformat_minor": 2
}
