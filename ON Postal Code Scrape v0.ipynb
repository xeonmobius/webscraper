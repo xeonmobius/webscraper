{
 "cells": [
  {
   "cell_type": "code",
   "execution_count": null,
   "metadata": {},
   "outputs": [],
   "source": [
    "import time as time\n",
    "import pandas as pd\n",
    "\n",
    "\n",
    "from selenium import webdriver \n",
    "from selenium.webdriver.support.ui import Select"
   ]
  },
  {
   "cell_type": "code",
   "execution_count": null,
   "metadata": {},
   "outputs": [],
   "source": [
    "# Functions scrapes the page for postal codes\n",
    "def getPostalCodes():\n",
    "   \n",
    "    # helped functions that removes any postal codes that are not being used by Canada Post\n",
    "    def removeUnassignedPostalCode(x):\n",
    "        try:\n",
    "            checkString = x.find_element_by_tag_name('i').text\n",
    "        except:\n",
    "            return True\n",
    "\n",
    "        if \"Not\" in checkString:\n",
    "            return False \n",
    "\n",
    "    # Loads the urban table postal codes     \n",
    "    urbanTable = browser.find_elements_by_tag_name('table')[0]\n",
    "    \n",
    "    # Loads the rural table postal codes \n",
    "    ruralTable = browser.find_elements_by_tag_name('table')[1]\n",
    "\n",
    "    # Removes unused postal codes html elements from the list\n",
    "    urbanList = list(filter(removeUnassignedPostalCode, urbanTable.find_elements_by_tag_name('td')))\n",
    "    \n",
    "    # Gets the text from the element that has the postal code\n",
    "    urbanList = list(map(lambda x : x.find_element_by_tag_name('b').text, urbanList))\n",
    "    \n",
    "    # Removes unused postal codes html elements from the list\n",
    "    ruralList = list(filter(removeUnassignedPostalCode, ruralTable.find_elements_by_tag_name('td')))\n",
    "    \n",
    "    # Gets the text from the element that has the postal code\n",
    "    ruralList = list(map(lambda x : x.find_element_by_tag_name('b').text, ruralList))\n",
    "    \n",
    "    return (ruralList+urbanList)\n",
    "\n",
    "# gets postal code for Toronto; its a different layout so needs its own function\n",
    "def getPostalCodesforM():\n",
    "    \n",
    "    # helped functions that removes any postal codes that are not being used by Canada Post\n",
    "    def removeUnassignedPostalCode(x):\n",
    "        checkString = x.text\n",
    "        if \"Not\" in checkString:\n",
    "            return False \n",
    "        return True\n",
    "   \n",
    "    # Grabs the table with the codes\n",
    "    torontoTable = browser.find_element_by_tag_name('table')\n",
    "    \n",
    "    # Gets the rows with the code but also removes the header row \n",
    "    postalCodeList = torontoTable.find_elements_by_tag_name('tr')[1:]\n",
    "    \n",
    "    # Removes unused postal codes\n",
    "    postalCodeList = list(filter(removeUnassignedPostalCode, postalCodeList))\n",
    "    \n",
    "    # Grabs the text from the elements with the postal codes\n",
    "    postalCodeList = list(map(lambda x : x.find_element_by_tag_name('td').text, postalCodeList))\n",
    "    \n",
    "    return postalCodeList"
   ]
  },
  {
   "cell_type": "code",
   "execution_count": null,
   "metadata": {},
   "outputs": [],
   "source": [
    "url = 'https://en.wikipedia.org/wiki/List_of_postal_codes_of_Canada:_'\n",
    "\n",
    "# All the first letter postal codes used in Ontario\n",
    "postalLetters = {'P', 'K', 'M', 'L', 'M', 'N'}\n",
    "\n",
    "# Create an empty array that will house the postal codes\n",
    "postalCodes = list()"
   ]
  },
  {
   "cell_type": "code",
   "execution_count": null,
   "metadata": {},
   "outputs": [],
   "source": [
    "option = webdriver.ChromeOptions()\n",
    "option.add_argument('-incognito')\n",
    "\n",
    "browser = webdriver.Chrome(executable_path='../chromedriver', chrome_options=option)"
   ]
  },
  {
   "cell_type": "code",
   "execution_count": null,
   "metadata": {},
   "outputs": [],
   "source": [
    "# For each letter go to their wikipage and scrape the tables \n",
    "for letter in postalLetters:\n",
    "    \n",
    "    # Go to the wikipage with the codes\n",
    "    browser.get(url+letter)\n",
    "    time.sleep(1)\n",
    "    \n",
    "    # if its the Letter M (toronto) then use the special function for toronto else use the regular one\n",
    "    if letter == 'M':\n",
    "        postalCodes += getPostalCodesforM()\n",
    "    else:\n",
    "        postalCodes += getPostalCodes()"
   ]
  },
  {
   "cell_type": "code",
   "execution_count": null,
   "metadata": {},
   "outputs": [],
   "source": [
    "# Make a dataframe object out of the postalcode list for easier maniuplation\n",
    "postalCSV = pd.DataFrame(columns={'Postal Code'}, data=postalCodes)\n",
    "\n",
    "# Drop any duplicates but keep the first occurence of a postal code\n",
    "postalCSV.drop_duplicates(keep='first', inplace=True)\n",
    "\n",
    "# Save it\n",
    "postalCSV.to_csv('./csv/ON Postal Codes.csv', index=False)"
   ]
  }
 ],
 "metadata": {
  "kernelspec": {
   "display_name": "Python 3",
   "language": "python",
   "name": "python3"
  },
  "language_info": {
   "codemirror_mode": {
    "name": "ipython",
    "version": 3
   },
   "file_extension": ".py",
   "mimetype": "text/x-python",
   "name": "python",
   "nbconvert_exporter": "python",
   "pygments_lexer": "ipython3",
   "version": "3.6.8"
  }
 },
 "nbformat": 4,
 "nbformat_minor": 2
}
