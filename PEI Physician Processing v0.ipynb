{
 "cells": [
  {
   "cell_type": "code",
   "execution_count": null,
   "metadata": {},
   "outputs": [],
   "source": [
    "import pandas as pd\n",
    "import re"
   ]
  },
  {
   "cell_type": "code",
   "execution_count": null,
   "metadata": {},
   "outputs": [],
   "source": [
    "file = './csv/PEI Physician.csv'\n",
    "df = pd.read_csv(file)"
   ]
  },
  {
   "cell_type": "code",
   "execution_count": null,
   "metadata": {},
   "outputs": [],
   "source": [
    "# Use regexp to extract the postal code\n",
    "def extractPostalCode(x):\n",
    "    pattern = r\"[a-zA-z]\\d[a-zA-z]\\s\\d[a-zA-z]\\d\"\n",
    "    try: \n",
    "        result = re.search(pattern, x).group()\n",
    "    except:\n",
    "        result = \"None\"\n",
    "    return  result\n",
    "\n",
    "\n",
    "# use REGEXP to look for key word 'Address:' and extract the characters after it\n",
    "def extractAddress(x):\n",
    "    pattern = r\"Address:\"\n",
    "    arr = x.replace('\\r', '').split('\\n')\n",
    "    try: \n",
    "        result = list(filter(lambda x: re.match(pattern, x), arr))[0]\n",
    "    except:\n",
    "        result = 'None'\n",
    "    return result.replace('Address: ', '')\n",
    "\n",
    "\n",
    "# Split at the () brackets to get the specialty\n",
    "def extractSpecialty(x):\n",
    "    speciality = x.split('(')[1]\n",
    "    return speciality.replace(')','')"
   ]
  },
  {
   "cell_type": "code",
   "execution_count": null,
   "metadata": {},
   "outputs": [],
   "source": [
    "# Extract the postal code from info col\n",
    "df['Postal Code'] = df['Info'].map(extractPostalCode)\n",
    "\n",
    "# Extract the address out of info \n",
    "df['Address'] = df['Info'].map(extractAddress)\n",
    "\n",
    "# Drop any doctors who are out of the province\n",
    "df = df[df['Info'].str.contains('Out of Province') != True]\n",
    "\n",
    "# Grab the specialty \n",
    "df['Specialty'] = df['Name'].map(extractSpecialty)\n",
    "\n",
    "# Remove the (Specialty) from the name\n",
    "df['Name'] = df['Name'].map(lambda x: x.split('(')[0].strip())\n",
    "\n",
    "# Get the first name and last name while removing title\n",
    "df['First Name'] = df['Name'].map(lambda x: x.replace('Dr. ', '').split(' ')[0])\n",
    "df['Last Name'] = df['Name'].map(lambda x: x.replace('Dr. ', '').split(' ')[1])\n",
    "\n",
    "# drop the name, and info col \n",
    "df.drop(columns={'Name', 'Info'}, inplace=True)"
   ]
  },
  {
   "cell_type": "code",
   "execution_count": null,
   "metadata": {
    "scrolled": false
   },
   "outputs": [],
   "source": [
    "df.to_csv(file, index=False)"
   ]
  }
 ],
 "metadata": {
  "kernelspec": {
   "display_name": "Python 3",
   "language": "python",
   "name": "python3"
  },
  "language_info": {
   "codemirror_mode": {
    "name": "ipython",
    "version": 3
   },
   "file_extension": ".py",
   "mimetype": "text/x-python",
   "name": "python",
   "nbconvert_exporter": "python",
   "pygments_lexer": "ipython3",
   "version": "3.6.8"
  }
 },
 "nbformat": 4,
 "nbformat_minor": 2
}
