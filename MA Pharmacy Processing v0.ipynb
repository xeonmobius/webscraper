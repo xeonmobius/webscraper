{
 "cells": [
  {
   "cell_type": "code",
   "execution_count": null,
   "metadata": {},
   "outputs": [],
   "source": [
    "import pandas as pd\n",
    "import re"
   ]
  },
  {
   "cell_type": "code",
   "execution_count": null,
   "metadata": {},
   "outputs": [],
   "source": [
    "df = pd.read_csv('./csv/MA Pharmacy.csv')"
   ]
  },
  {
   "cell_type": "code",
   "execution_count": null,
   "metadata": {},
   "outputs": [],
   "source": [
    "# Extract postal code based on regexp pattern\n",
    "def extractPostalCode(x):\n",
    "    pattern = r\"[a-zA-z]\\d[a-zA-z]\\s\\d[a-zA-z]\\d\"\n",
    "    try: \n",
    "        result = re.search(pattern, x).group()\n",
    "    except:\n",
    "        result = \"None\"\n",
    "    return  result"
   ]
  },
  {
   "cell_type": "code",
   "execution_count": null,
   "metadata": {},
   "outputs": [],
   "source": [
    "# Extract the street from the address string splits\n",
    "df['Street'] = df['Address'].map(lambda x: x.replace('\\r', '').split('\\n')[0])\n",
    "\n",
    "# Extract postal code with the function\n",
    "df['Postal Code'] = df['Address'].map(extractPostalCode)\n",
    "\n",
    "# Extract city from the address string by elaborate spliting\n",
    "df['City'] = df['Address'].map(lambda x: x.replace('\\r', '').split('\\n')[1].split(',')[0])\n",
    "\n",
    "# Remove the requirements and address cols\n",
    "df.drop(columns={'Requirements met for 19', 'Address'}, inplace=True)"
   ]
  },
  {
   "cell_type": "code",
   "execution_count": null,
   "metadata": {
    "scrolled": false
   },
   "outputs": [],
   "source": [
    "df.to_csv('./csv/MA Pharmacy.csv', index=False)"
   ]
  }
 ],
 "metadata": {
  "kernelspec": {
   "display_name": "Python 3",
   "language": "python",
   "name": "python3"
  },
  "language_info": {
   "codemirror_mode": {
    "name": "ipython",
    "version": 3
   },
   "file_extension": ".py",
   "mimetype": "text/x-python",
   "name": "python",
   "nbconvert_exporter": "python",
   "pygments_lexer": "ipython3",
   "version": "3.6.8"
  }
 },
 "nbformat": 4,
 "nbformat_minor": 2
}
