{
 "cells": [
  {
   "cell_type": "code",
   "execution_count": null,
   "metadata": {},
   "outputs": [],
   "source": [
    "import time as time\n",
    "import pandas as pd\n",
    "import os\n",
    "\n",
    "from selenium import webdriver \n",
    "from selenium.webdriver.support.ui import Select"
   ]
  },
  {
   "cell_type": "code",
   "execution_count": null,
   "metadata": {},
   "outputs": [],
   "source": [
    "# Sask physician home page\n",
    "url = 'https://www.cps.sk.ca/imis/'\n",
    "\n",
    "# Create a global dataframe to save our doctors\n",
    "df = pd.DataFrame()"
   ]
  },
  {
   "cell_type": "code",
   "execution_count": null,
   "metadata": {},
   "outputs": [],
   "source": [
    "option = webdriver.ChromeOptions()\n",
    "option.add_argument('-incognito')\n",
    "\n",
    "browser = webdriver.Chrome(executable_path='../chromedriver', chrome_options=option)"
   ]
  },
  {
   "cell_type": "code",
   "execution_count": null,
   "metadata": {
    "scrolled": true
   },
   "outputs": [],
   "source": [
    "# Load the url\n",
    "browser.get(url)"
   ]
  },
  {
   "cell_type": "code",
   "execution_count": null,
   "metadata": {},
   "outputs": [],
   "source": [
    "# Grab the specialty drop down\n",
    "select = Select(browser.find_element_by_id('ctl01_HomePageSearch_Search_ddlSpeciality'))\n",
    "\n",
    "# Loop through each specialty\n",
    "for i in range(1,len(select.options)):\n",
    "    \n",
    "    # regrab the specialty drop down when the page loads\n",
    "    select = Select(browser.find_element_by_id('ctl01_HomePageSearch_Search_ddlSpeciality'))\n",
    "    \n",
    "    # Grab the ith specialty string value\n",
    "    specialty = select.options[i].text\n",
    "    \n",
    "    # Select the ith specialty \n",
    "    select.select_by_index(i)\n",
    "    \n",
    "    # Click on the go button to search\n",
    "    browser.find_element_by_id('ctl01_HomePageSearch_Search_Btn_Search').click()\n",
    "    time.sleep(3)\n",
    "    \n",
    "    # Try and grab the doctor table if there are any doctors\n",
    "    try:\n",
    "        table = browser.find_element_by_xpath(\"//table[@class='table ng-table-responsive table-striped table-hover animated fadeIn']\")\n",
    "    except:\n",
    "        # There are no doctors in the current specialty so we skip to the next specialty\n",
    "        continue;\n",
    "        \n",
    "    # Grab all the table rows in the table \n",
    "    trList = table.find_elements_by_tag_name('tr')\n",
    "    \n",
    "    # Remove any headers\n",
    "    trList = trList[1:]\n",
    "    \n",
    "    # For each row grab the relevant info\n",
    "    for tr in trList:\n",
    "        lastName = tr.find_elements_by_tag_name('td')[0].text\n",
    "        firstName = tr.find_elements_by_tag_name('td')[1].text\n",
    "        middleName = tr.find_elements_by_tag_name('td')[2].text\n",
    "        city = tr.find_elements_by_tag_name('td')[3].text\n",
    "        province = tr.find_elements_by_tag_name('td')[4].text\n",
    "        country = tr.find_elements_by_tag_name('td')[5].text\n",
    "        language = tr.find_elements_by_tag_name('td')[6].text\n",
    "        postalCode = tr.find_elements_by_tag_name('td')[7].text\n",
    "        phone = tr.find_elements_by_tag_name('td')[8].text\n",
    "        fax  = tr.find_elements_by_tag_name('td')[9].text\n",
    "        \n",
    "        # Make a dict out of the info grabbed\n",
    "        data = {'Last Name' : lastName, \n",
    "              'First Name' : firstName, \n",
    "              'Middle Name' : middleName, \n",
    "              'City' : city, \n",
    "              'Province' : province, \n",
    "              'Country' : country, \n",
    "              'Language' : language, \n",
    "              'Postal Code' : postalCode, \n",
    "              'Phone' : phone, \n",
    "              'Fax' : fax,\n",
    "              'Specialty': specialty}\n",
    "        \n",
    "        # Append it to the data frame\n",
    "        df = df.append(data, ignore_index=True)\n",
    "        \n",
    "        # Free the memory by deleting old variables \n",
    "        del lastName, firstName, middleName, city, province, country, language, postalCode, phone, fax"
   ]
  },
  {
   "cell_type": "code",
   "execution_count": null,
   "metadata": {},
   "outputs": [],
   "source": [
    "df.to_csv('./csv/SK Physician.csv', index=False)"
   ]
  }
 ],
 "metadata": {
  "kernelspec": {
   "display_name": "Python 3",
   "language": "python",
   "name": "python3"
  },
  "language_info": {
   "codemirror_mode": {
    "name": "ipython",
    "version": 3
   },
   "file_extension": ".py",
   "mimetype": "text/x-python",
   "name": "python",
   "nbconvert_exporter": "python",
   "pygments_lexer": "ipython3",
   "version": "3.6.8"
  }
 },
 "nbformat": 4,
 "nbformat_minor": 2
}
