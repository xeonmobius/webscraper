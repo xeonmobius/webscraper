{
 "cells": [
  {
   "cell_type": "code",
   "execution_count": 10,
   "metadata": {},
   "outputs": [],
   "source": [
    "import pandas as pd\n",
    "import re"
   ]
  },
  {
   "cell_type": "code",
   "execution_count": 24,
   "metadata": {},
   "outputs": [
    {
     "name": "stderr",
     "output_type": "stream",
     "text": [
      "b'Skipping line 34: expected 9 fields, saw 11\\nSkipping line 193: expected 9 fields, saw 10\\nSkipping line 197: expected 9 fields, saw 10\\nSkipping line 982: expected 9 fields, saw 10\\nSkipping line 983: expected 9 fields, saw 10\\nSkipping line 1124: expected 9 fields, saw 10\\nSkipping line 1764: expected 9 fields, saw 10\\nSkipping line 2093: expected 9 fields, saw 10\\nSkipping line 2170: expected 9 fields, saw 10\\nSkipping line 2676: expected 9 fields, saw 10\\nSkipping line 3093: expected 9 fields, saw 10\\nSkipping line 4361: expected 9 fields, saw 10\\nSkipping line 5295: expected 9 fields, saw 10\\nSkipping line 5302: expected 9 fields, saw 10\\nSkipping line 5325: expected 9 fields, saw 10\\nSkipping line 5326: expected 9 fields, saw 10\\nSkipping line 5328: expected 9 fields, saw 11\\n'\n"
     ]
    }
   ],
   "source": [
    "filePath = './csv/OCPSearch.csv'\n",
    "\n",
    "# Some of the rows have info incorrectly inputted so skip loading those lines\n",
    "# Otherwise some one needs to manually correct the lines\n",
    "df = pd.read_csv(filePath, error_bad_lines=False)"
   ]
  },
  {
   "cell_type": "code",
   "execution_count": 25,
   "metadata": {},
   "outputs": [],
   "source": [
    "# Rename the cols to look more readable\n",
    "df.rename(columns={\n",
    "    'Accreditation_Number' : 'Accreditation Number',\n",
    "    'Company_Name' : 'Company Name',\n",
    "    'Address_1' : 'Address 1',\n",
    "    'Address_2' : 'Address 2',\n",
    "    'Zip' : 'Postal Code'\n",
    "}, inplace= True)\n",
    "\n",
    "# Drop the cols we dont need\n",
    "df.drop(columns={'Address 2', 'Accreditation Number', 'Status', 'Phone', 'Fax'}, inplace=True)"
   ]
  },
  {
   "cell_type": "code",
   "execution_count": 27,
   "metadata": {},
   "outputs": [],
   "source": [
    "df.to_csv(filePath, index=False)"
   ]
  }
 ],
 "metadata": {
  "kernelspec": {
   "display_name": "Python 3",
   "language": "python",
   "name": "python3"
  },
  "language_info": {
   "codemirror_mode": {
    "name": "ipython",
    "version": 3
   },
   "file_extension": ".py",
   "mimetype": "text/x-python",
   "name": "python",
   "nbconvert_exporter": "python",
   "pygments_lexer": "ipython3",
   "version": "3.6.8"
  }
 },
 "nbformat": 4,
 "nbformat_minor": 2
}
