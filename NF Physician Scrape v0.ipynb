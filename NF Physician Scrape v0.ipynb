{
 "cells": [
  {
   "cell_type": "code",
   "execution_count": null,
   "metadata": {},
   "outputs": [],
   "source": [
    "import time as time\n",
    "import pandas as pd\n",
    "import os\n",
    "\n",
    "from selenium import webdriver \n",
    "from selenium.webdriver.support.ui import Select"
   ]
  },
  {
   "cell_type": "code",
   "execution_count": null,
   "metadata": {},
   "outputs": [],
   "source": [
    "url = 'http://www.cpsnl.ca/WEB/CPSNL/PhysicianSearch/Physician_Search.aspx'\n",
    "df = pd.DataFrame(columns={'Last Name', 'First Name', 'Middle Name', 'Address', 'Member Type', 'Register', 'Specialty'})"
   ]
  },
  {
   "cell_type": "code",
   "execution_count": null,
   "metadata": {},
   "outputs": [],
   "source": [
    "option = webdriver.ChromeOptions()\n",
    "option.add_argument('-incognito')\n",
    "\n",
    "browser = webdriver.Chrome(executable_path='../chromedriver', chrome_options=option)"
   ]
  },
  {
   "cell_type": "code",
   "execution_count": null,
   "metadata": {
    "scrolled": true
   },
   "outputs": [],
   "source": [
    "browser.get(url)"
   ]
  },
  {
   "cell_type": "code",
   "execution_count": null,
   "metadata": {},
   "outputs": [],
   "source": [
    "# Grab the Area of Practice drop down menu \n",
    "select = Select(browser.find_element_by_id('ctl01_TemplateBody_WebPartManager1_gwpciNewQueryMenuCommon_ciNewQueryMenuCommon_ResultsGrid_Sheet0_Input4_DropDown1'))\n",
    "\n",
    "# Loop through each Area of Practices grabbing info\n",
    "for i in range(1,len(select.options)):\n",
    "    \n",
    "    # Regrab the Area of Practice when the page loads \n",
    "    select = Select(browser.find_element_by_id('ctl01_TemplateBody_WebPartManager1_gwpciNewQueryMenuCommon_ciNewQueryMenuCommon_ResultsGrid_Sheet0_Input4_DropDown1'))\n",
    "    \n",
    "    # Grab the current area of practice string to be used for Dr specialty\n",
    "    specialty = select.options[i].text\n",
    "    \n",
    "    # Select the current area of practice\n",
    "    select.select_by_index(i)\n",
    "    \n",
    "    # Click Find button\n",
    "    browser.find_element_by_id('ctl01_TemplateBody_WebPartManager1_gwpciNewQueryMenuCommon_ciNewQueryMenuCommon_ResultsGrid_Sheet0_SubmitButton').click()\n",
    "    time.sleep(3)\n",
    "    \n",
    "    # Try and click on the show all button if not already clicked\n",
    "    try:\n",
    "        # Click on show all button\n",
    "        browser.find_element_by_xpath(\"//*[contains(text(), 'show all')]\").click()\n",
    "        time.sleep(2)\n",
    "    except:\n",
    "        print('')\n",
    "    \n",
    "    # Grab the Table with all the doctors\n",
    "    table = browser.find_element_by_xpath(\"//table[@id='ctl01_TemplateBody_WebPartManager1_gwpciNewQueryMenuCommon_ciNewQueryMenuCommon_ResultsGrid_Grid1_ctl00']\")\n",
    "    \n",
    "    # Grab all the table rows in that table\n",
    "    trList = table.find_elements_by_tag_name('tr')\n",
    "    \n",
    "    # Remove the header\n",
    "    trList = trList[1:]\n",
    "    \n",
    "    # Grab the table info if there are doctors in that specialty\n",
    "    try:\n",
    "        # Grab info for each row\n",
    "        for tr in trList:\n",
    "            lastName = tr.find_elements_by_tag_name('td')[0].text\n",
    "            firstName = tr.find_elements_by_tag_name('td')[1].text\n",
    "            middleName = tr.find_elements_by_tag_name('td')[2].text\n",
    "            address = tr.find_elements_by_tag_name('td')[3].text\n",
    "            memberType = tr.find_elements_by_tag_name('td')[4].text\n",
    "            register = tr.find_elements_by_tag_name('td')[5].text\n",
    "            \n",
    "            # package the data into a dictionary\n",
    "            data = {'Last Name' : lastName, \n",
    "              'First Name' : firstName, \n",
    "              'Middle Name' : middleName, \n",
    "              'Address' : address, \n",
    "              'Member Type' : memberType, \n",
    "              'Register' : register,\n",
    "              'Specialty' : specialty}\n",
    "            \n",
    "            # Append it into the dataframe\n",
    "            df = df.append(data, ignore_index=True)\n",
    "    # If there are no doctors in that specialty just go to the next specialty then \n",
    "    except:\n",
    "        print('No Records')\n",
    "        continue"
   ]
  },
  {
   "cell_type": "code",
   "execution_count": null,
   "metadata": {},
   "outputs": [],
   "source": [
    "df.to_csv('./csv/NF Physician.csv', index=False)"
   ]
  }
 ],
 "metadata": {
  "kernelspec": {
   "display_name": "Python 3",
   "language": "python",
   "name": "python3"
  },
  "language_info": {
   "codemirror_mode": {
    "name": "ipython",
    "version": 3
   },
   "file_extension": ".py",
   "mimetype": "text/x-python",
   "name": "python",
   "nbconvert_exporter": "python",
   "pygments_lexer": "ipython3",
   "version": "3.6.8"
  }
 },
 "nbformat": 4,
 "nbformat_minor": 2
}
