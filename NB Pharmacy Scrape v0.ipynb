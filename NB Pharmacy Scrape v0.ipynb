{
 "cells": [
  {
   "cell_type": "code",
   "execution_count": null,
   "metadata": {},
   "outputs": [],
   "source": [
    "import time as time\n",
    "import pandas as pd\n",
    "import os\n",
    "\n",
    "from selenium import webdriver \n",
    "from selenium.webdriver.support.ui import Select"
   ]
  },
  {
   "cell_type": "code",
   "execution_count": null,
   "metadata": {},
   "outputs": [],
   "source": [
    "url = 'https://www.nbpharmacists.ca/client/roster/clientRosterView.html?clientRosterId=208&page='\n",
    "df = pd.DataFrame()"
   ]
  },
  {
   "cell_type": "code",
   "execution_count": null,
   "metadata": {},
   "outputs": [],
   "source": [
    "option = webdriver.ChromeOptions()\n",
    "option.add_argument('-incognito')\n",
    "\n",
    "browser = webdriver.Chrome(executable_path='../chromedriver', chrome_options=option)"
   ]
  },
  {
   "cell_type": "code",
   "execution_count": null,
   "metadata": {},
   "outputs": [],
   "source": [
    "# Loop through each page \n",
    "for i in range(1,6):\n",
    "    \n",
    "    # Get the ith page\n",
    "    browser.get(url+str(i))\n",
    "    \n",
    "    # Wait for the page to load\n",
    "    time.sleep(1)\n",
    "    \n",
    "    # Get the table on the ith page\n",
    "    table = browser.find_elements_by_xpath(\"//table[@class='roster_tbl']\")\n",
    "    \n",
    "    # For each tBody on the page, extract the meaningful data\n",
    "    for tbody in table:\n",
    "        \n",
    "        # Extract the info into variables\n",
    "        pharmacy = tbody.find_elements_by_tag_name('strong')[0].text\n",
    "        typePharmacy = tbody.find_elements_by_tag_name('em')[0].text\n",
    "        manager = tbody.find_elements_by_tag_name('p')[0].text.split('\\n')[0].split(': ')[1]\n",
    "        phone = tbody.find_elements_by_tag_name('p')[1].text.split('\\n')[0].split(': ')[1]\n",
    "        fax = tbody.find_elements_by_tag_name('p')[1].text.split('\\n')[1].split(': ')[1]\n",
    "        street = tbody.find_elements_by_tag_name('div')[0].text\n",
    "        location = tbody.find_elements_by_tag_name('div')[1].text\n",
    "        \n",
    "        # Take the variables and package it into a dictionary\n",
    "        data = {'Pharmacy' : pharmacy, \n",
    "                'Type' : typePharmacy, \n",
    "                'Street' : street,\n",
    "                'Location': location,\n",
    "                'Manager' : manager, \n",
    "                'Phone' : phone, \n",
    "                'Fax' : fax,}\n",
    "        \n",
    "        # Append it to the dataframe\n",
    "        df = df.append(data, ignore_index=True)"
   ]
  },
  {
   "cell_type": "code",
   "execution_count": null,
   "metadata": {},
   "outputs": [],
   "source": [
    "df.to_csv('./csv/NB Pharmacy.csv', index=False)"
   ]
  }
 ],
 "metadata": {
  "kernelspec": {
   "display_name": "Python 3",
   "language": "python",
   "name": "python3"
  },
  "language_info": {
   "codemirror_mode": {
    "name": "ipython",
    "version": 3
   },
   "file_extension": ".py",
   "mimetype": "text/x-python",
   "name": "python",
   "nbconvert_exporter": "python",
   "pygments_lexer": "ipython3",
   "version": "3.6.8"
  }
 },
 "nbformat": 4,
 "nbformat_minor": 2
}
