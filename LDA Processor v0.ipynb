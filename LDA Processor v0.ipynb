{
 "cells": [
  {
   "cell_type": "code",
   "execution_count": null,
   "metadata": {},
   "outputs": [],
   "source": [
    "import pandas as pd\n",
    "import time\n",
    "import os.path"
   ]
  },
  {
   "cell_type": "code",
   "execution_count": null,
   "metadata": {},
   "outputs": [],
   "source": [
    "# Each LDA unit has 2247 statistics fields so the chunksize = 1 LDA sector x number of LDAs we want to load\n",
    "chunksize = 2247*20\n",
    "filePath = './LDA/LDA v1.csv'\n",
    "originalPath = './LDA/98-401-X2016044_English_CSV_data.csv'"
   ]
  },
  {
   "cell_type": "code",
   "execution_count": null,
   "metadata": {},
   "outputs": [],
   "source": [
    "# Helper function to save the data from RAM to Disk\n",
    "def appendToFile(filepath, df):\n",
    "    header = True\n",
    "    # if file exists then don't append the header again\n",
    "    if os.path.isfile(filePath):\n",
    "        header = False\n",
    "        \n",
    "    df.to_csv(filePath, mode='a', header=header, index=False)"
   ]
  },
  {
   "cell_type": "code",
   "execution_count": null,
   "metadata": {},
   "outputs": [],
   "source": [
    "# Load the original census data\n",
    "df = pd.read_csv(originalPath, nrows=2247)\n",
    "\n",
    "# Gets the labels for the new data frame\n",
    "labels = tuple(df.iloc[0:2247, 9].tolist())\n",
    "\n",
    "# Delete the old census data since we got the labels out\n",
    "del df\n",
    "\n",
    "# Reads the large census file in smaller chunks\n",
    "for df in pd.read_csv(originalPath, chunksize=chunksize):\n",
    "    \n",
    "    # Creates a new data file with the labels \n",
    "    newDf = pd.DataFrame(columns=labels)\n",
    "    \n",
    "    # ldaList is a list of all the unique LDA ID (DAUID) in the chunk we loaded(Total = 20 LDA)\n",
    "    ldaList = df['GEO_CODE (POR)'].unique()\n",
    "    \n",
    "    # Creates a placeholder col\n",
    "    newDf['DAUID'] = 0\n",
    "    \n",
    "    # Goes through each LDA sector which is 2247 rows and the chunk size was chosen to have 20 LDA\n",
    "    for i in range(20):\n",
    "        \n",
    "        # Begining of a new LDA\n",
    "        firstIndex = i*2247\n",
    "        \n",
    "        # Last row of an LDA\n",
    "        lastIndex = (i+1) * 2247\n",
    "        \n",
    "        # Splices the old df into a new array\n",
    "        # 12 equals the total values, 13 = Males, 14 = Females \n",
    "        totalValues = df.iloc[firstIndex:lastIndex, 12].tolist()\n",
    "        \n",
    "        # We attach the DAUID (LDA ID) at the end of the array so it lines up with the cols\n",
    "        totalValues.append(ldaList[i])\n",
    "\n",
    "        # We set the new DF row to equal what we just spliced\n",
    "        newDf.loc[i] = totalValues\n",
    "        \n",
    "    \n",
    "    appendToFile(filepath, newDf)\n",
    "    \n",
    "    # delete the newDf to free space \n",
    "    del newDf"
   ]
  }
 ],
 "metadata": {
  "kernelspec": {
   "display_name": "Python 3",
   "language": "python",
   "name": "python3"
  },
  "language_info": {
   "codemirror_mode": {
    "name": "ipython",
    "version": 3
   },
   "file_extension": ".py",
   "mimetype": "text/x-python",
   "name": "python",
   "nbconvert_exporter": "python",
   "pygments_lexer": "ipython3",
   "version": "3.6.8"
  }
 },
 "nbformat": 4,
 "nbformat_minor": 2
}
