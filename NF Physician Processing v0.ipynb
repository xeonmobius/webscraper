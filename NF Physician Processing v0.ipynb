{
 "cells": [
  {
   "cell_type": "code",
   "execution_count": null,
   "metadata": {},
   "outputs": [],
   "source": [
    "import pandas as pd\n",
    "import re"
   ]
  },
  {
   "cell_type": "code",
   "execution_count": null,
   "metadata": {},
   "outputs": [],
   "source": [
    "file = './csv/NF Physician.csv'\n",
    "df = pd.read_csv(file)\n",
    "\n",
    "# Loads of all the cities in NF from wikipedia\n",
    "cities = pd.read_csv('./csv/NF Cities.csv').values"
   ]
  },
  {
   "cell_type": "code",
   "execution_count": null,
   "metadata": {},
   "outputs": [],
   "source": [
    "# Uses REGEXP to extract the postal code\n",
    "def extractPostalCode(x):\n",
    "    pattern = r\"[a-zA-z]\\d[a-zA-z]\\s\\d[a-zA-z]\\d\"\n",
    "    try: \n",
    "        result = re.search(pattern, x).group()\n",
    "    except:\n",
    "        result = \"None\"\n",
    "    return  result\n",
    "\n",
    "\n",
    "# searches the string to see if there is a match the the cities list\n",
    "def extractCity(x):\n",
    "    for city in cities:\n",
    "        if str(city[0]) in x:\n",
    "            return str(city[0])"
   ]
  },
  {
   "cell_type": "code",
   "execution_count": null,
   "metadata": {},
   "outputs": [],
   "source": [
    "# Remove any non practicisng members\n",
    "df = df[df['Member Type'] == 'Practising']\n",
    "\n",
    "# Reset the index b/c we removed a lot of rows\n",
    "df.reset_index(inplace=True)\n",
    "\n",
    "# Extract the postal code from the Address \n",
    "df['Postal Code'] = df['Address'].map(extractPostalCode)\n",
    "\n",
    "# Extract the City the Address \n",
    "df['City'] = df['Address'].map(extractCity)\n",
    "\n",
    "# Drop the previous index and the middle name\n",
    "df.drop(columns={'index', 'Middle Name', 'Address', 'Member Type', 'Register'}, inplace=True)"
   ]
  },
  {
   "cell_type": "code",
   "execution_count": null,
   "metadata": {},
   "outputs": [],
   "source": [
    "df.to_csv(file, index=False)"
   ]
  }
 ],
 "metadata": {
  "kernelspec": {
   "display_name": "Python 3",
   "language": "python",
   "name": "python3"
  },
  "language_info": {
   "codemirror_mode": {
    "name": "ipython",
    "version": 3
   },
   "file_extension": ".py",
   "mimetype": "text/x-python",
   "name": "python",
   "nbconvert_exporter": "python",
   "pygments_lexer": "ipython3",
   "version": "3.6.8"
  }
 },
 "nbformat": 4,
 "nbformat_minor": 2
}
