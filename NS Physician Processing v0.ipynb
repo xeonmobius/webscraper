{
 "cells": [
  {
   "cell_type": "code",
   "execution_count": null,
   "metadata": {},
   "outputs": [],
   "source": [
    "import pandas as pd\n",
    "import re"
   ]
  },
  {
   "cell_type": "code",
   "execution_count": null,
   "metadata": {},
   "outputs": [],
   "source": [
    "file = './csv/NS Physicians.csv'\n",
    "df = pd.read_csv(file)"
   ]
  },
  {
   "cell_type": "code",
   "execution_count": null,
   "metadata": {},
   "outputs": [],
   "source": [
    "# Use regular expression to extract the postal code\n",
    "def extractPostalCode(x):\n",
    "    pattern = r\"[a-zA-z]\\d[a-zA-z]\\s\\d[a-zA-z]\\d\"\n",
    "    try: \n",
    "        result = re.search(pattern, x).group()\n",
    "    except:\n",
    "        result = \"None\"\n",
    "    return  result\n",
    "\n",
    "\n",
    "# Use the same code as before except this time it uses the postal codes index\n",
    "# extract the city strings behind it\n",
    "def extractCity(x):\n",
    "    pattern = r\"[a-zA-z]\\d[a-zA-z]\\s\\d[a-zA-z]\\d\"\n",
    "    try: \n",
    "        postalCode = re.search(pattern, x).group()\n",
    "        result = x.replace(postalCode, '')[:-3]\n",
    "    except:\n",
    "        result = \"None\"\n",
    "    return  result\n",
    "\n",
    "\n",
    "# Remove any unwanted characters in the street \n",
    "def cleanStreet(x):\n",
    "    try:\n",
    "        index = re.search(\"\\d\", x)\n",
    "        return x[index.start():]\n",
    "    except:\n",
    "        return x"
   ]
  },
  {
   "cell_type": "code",
   "execution_count": null,
   "metadata": {},
   "outputs": [],
   "source": [
    "# Drop all Dr that don't have any location information\n",
    "df = df[df['Address'].isna() == False]\n",
    "\n",
    "# Reset the index since we dropped some rows\n",
    "df.reset_index(inplace=True)\n",
    "\n",
    "# Extract the City using series of splicing\n",
    "df['City'] = df['Address'].map(lambda x: str(x).replace('\\r', '').replace('\\n', '').split(',')[0].split(' ')[-1])\n",
    "\n",
    "# Extract the Street using a series of splicing and joining the final string array at the end\n",
    "df['Street'] = df['Address'].map(lambda x: ' '.join(str(x).replace('\\r', '').replace('\\n', '').split(',')[0].split(' ')[:-1]))\n",
    "\n",
    "# Clean up the street strings\n",
    "df['Street'] = df['Street'].map(extractStreet)\n",
    "\n",
    "# Extract the Postal code\n",
    "df['Postal Code'] = df['Address'].map(extractPostalCode)\n",
    "\n",
    "# Drop the medical degree, business phone and fax\n",
    "df.drop(columns={'index', 'Address',}, inplace=True)"
   ]
  },
  {
   "cell_type": "code",
   "execution_count": null,
   "metadata": {},
   "outputs": [],
   "source": [
    "df.to_csv(file, index=False)"
   ]
  }
 ],
 "metadata": {
  "kernelspec": {
   "display_name": "Python 3",
   "language": "python",
   "name": "python3"
  },
  "language_info": {
   "codemirror_mode": {
    "name": "ipython",
    "version": 3
   },
   "file_extension": ".py",
   "mimetype": "text/x-python",
   "name": "python",
   "nbconvert_exporter": "python",
   "pygments_lexer": "ipython3",
   "version": "3.6.8"
  }
 },
 "nbformat": 4,
 "nbformat_minor": 2
}
