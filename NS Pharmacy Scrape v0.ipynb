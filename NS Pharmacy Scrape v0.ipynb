{
 "cells": [
  {
   "cell_type": "code",
   "execution_count": null,
   "metadata": {},
   "outputs": [],
   "source": [
    "import time as time\n",
    "import pandas as pd\n",
    "import os\n",
    "\n",
    "from selenium import webdriver \n",
    "#from selenium.webdriver.support.ui import Select"
   ]
  },
  {
   "cell_type": "code",
   "execution_count": null,
   "metadata": {},
   "outputs": [],
   "source": [
    "url = 'https://pans.ns.ca/public/you-your-pharmacist/pharmacy-finder'\n",
    "df = pd.DataFrame()"
   ]
  },
  {
   "cell_type": "code",
   "execution_count": null,
   "metadata": {},
   "outputs": [],
   "source": [
    "option = webdriver.ChromeOptions()\n",
    "option.add_argument('-incognito')\n",
    "\n",
    "browser = webdriver.Chrome(executable_path='../chromedriver', chrome_options=option)"
   ]
  },
  {
   "cell_type": "code",
   "execution_count": null,
   "metadata": {},
   "outputs": [],
   "source": [
    "# Loads the url\n",
    "browser.get(url)\n",
    "time.sleep(1)\n",
    "\n",
    "# Grab the div with the list\n",
    "div = browser.find_element_by_class_name('pf-list-bin')\n",
    "\n",
    "# Grab the inner table in it\n",
    "table = div.find_elements_by_class_name('pf-list-item')\n",
    "\n",
    "# For each tbody grab the relevant info\n",
    "for tbody in table:\n",
    "    \n",
    "    # Extract the data into variables\n",
    "    pharmacy = tbody.find_element_by_class_name('title').text\n",
    "    language = tbody.find_element_by_class_name('pharmacy-language').text.split(':')[1]\n",
    "    phone = tbody.find_element_by_class_name('phone').text\n",
    "    address = tbody.find_element_by_class_name('street-block').text\n",
    "    addressfield = tbody.find_element_by_class_name('addressfield-container-inline').text\n",
    "    latitude = tbody.find_element_by_class_name('pharmacy-details').get_attribute('data-lat')\n",
    "    longitude = tbody.find_element_by_class_name('pharmacy-details').get_attribute('data-lng')\n",
    "    \n",
    "    # Package the data into a dict\n",
    "    data = {'Pharmacy': pharmacy, \n",
    "           'Address': (address+\" \"+addressfield), \n",
    "           'Language': language, \n",
    "           'Phone': phone, \n",
    "           'Latitude': latitude, \n",
    "           'Longitude': longitude}\n",
    "    \n",
    "    # Append data to Df\n",
    "    df = df.append(data, ignore_index=True)"
   ]
  },
  {
   "cell_type": "code",
   "execution_count": null,
   "metadata": {},
   "outputs": [],
   "source": [
    "df.to_csv('./csv/NS Pharmacy.csv', index=False)"
   ]
  }
 ],
 "metadata": {
  "kernelspec": {
   "display_name": "Python 3",
   "language": "python",
   "name": "python3"
  },
  "language_info": {
   "codemirror_mode": {
    "name": "ipython",
    "version": 3
   },
   "file_extension": ".py",
   "mimetype": "text/x-python",
   "name": "python",
   "nbconvert_exporter": "python",
   "pygments_lexer": "ipython3",
   "version": "3.6.8"
  }
 },
 "nbformat": 4,
 "nbformat_minor": 2
}
