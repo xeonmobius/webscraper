{
 "cells": [
  {
   "cell_type": "code",
   "execution_count": null,
   "metadata": {},
   "outputs": [],
   "source": [
    "import time as time\n",
    "import pandas as pd\n",
    "import os\n",
    "\n",
    "from selenium import webdriver "
   ]
  },
  {
   "cell_type": "code",
   "execution_count": null,
   "metadata": {},
   "outputs": [],
   "source": [
    "urls = ['http://www.bcpharmacists.org/list-community-pharmacies', \n",
    "        'http://www.bcpharmacists.org/list-hospital-pharmacies']\n",
    "df = pd.DataFrame()"
   ]
  },
  {
   "cell_type": "code",
   "execution_count": null,
   "metadata": {},
   "outputs": [],
   "source": [
    "# Hepler function that saves the data to disk by appending\n",
    "def appendToFile(filePath, df):\n",
    "    header = True    \n",
    "    # If file exist don't append the header \n",
    "    if os.path.isfile(filePath):\n",
    "        header = False\n",
    "        \n",
    "    df.to_csv(filePath, mode='a', header=header, index=False)"
   ]
  },
  {
   "cell_type": "code",
   "execution_count": null,
   "metadata": {},
   "outputs": [],
   "source": [
    "option = webdriver.ChromeOptions()\n",
    "option.add_argument('-incognito')\n",
    "\n",
    "browser = webdriver.Chrome(executable_path='../chromedriver', chrome_options=option)"
   ]
  },
  {
   "cell_type": "code",
   "execution_count": null,
   "metadata": {
    "scrolled": true
   },
   "outputs": [],
   "source": [
    "for url in urls:\n",
    "    # Go to url\n",
    "    browser.get(url)\n",
    "\n",
    "    # Wait 2 seconds for the url to load the entire list\n",
    "    time.sleep(2)\n",
    "\n",
    "    # Grab table element with the pharmacies\n",
    "    table = browser.find_element_by_xpath(\"//table[@class='sticky-enabled']\")\n",
    "\n",
    "    # Find all the table rows in the table\n",
    "    trList = table.find_elements_by_tag_name('tr')\n",
    "\n",
    "    # Remove header row\n",
    "    trList = trList[1:]\n",
    "    \n",
    "    # For each row, scrape the relevant infos\n",
    "    for tr in trList:\n",
    "        # Grab all the table cells in the row\n",
    "        td = tr.find_elements_by_tag_name('td')\n",
    "        \n",
    "        # Repackage those cells into a dictionary\n",
    "        data = {'Pharmacy': td[0].text,\n",
    "              'Address': td[1].text,\n",
    "              'Manager': td[2].text,\n",
    "              'Phone': td[3].text,\n",
    "              'Fax': td[4].text}\n",
    "        \n",
    "        # Append the data into the global dataframe\n",
    "        df = df.append(data, ignore_index=True)"
   ]
  },
  {
   "cell_type": "code",
   "execution_count": null,
   "metadata": {},
   "outputs": [],
   "source": [
    "df.to_csv('./csv/BC Pharmacy.csv', index=False)"
   ]
  }
 ],
 "metadata": {
  "kernelspec": {
   "display_name": "Python 3",
   "language": "python",
   "name": "python3"
  },
  "language_info": {
   "codemirror_mode": {
    "name": "ipython",
    "version": 3
   },
   "file_extension": ".py",
   "mimetype": "text/x-python",
   "name": "python",
   "nbconvert_exporter": "python",
   "pygments_lexer": "ipython3",
   "version": "3.6.8"
  }
 },
 "nbformat": 4,
 "nbformat_minor": 2
}
