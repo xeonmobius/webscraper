{
 "cells": [
  {
   "cell_type": "code",
   "execution_count": null,
   "metadata": {},
   "outputs": [],
   "source": [
    "import pandas as pd\n",
    "import re"
   ]
  },
  {
   "cell_type": "code",
   "execution_count": null,
   "metadata": {},
   "outputs": [],
   "source": [
    "file = './csv/MA Physician.csv'\n",
    "df = pd.read_csv(file)"
   ]
  },
  {
   "cell_type": "code",
   "execution_count": null,
   "metadata": {},
   "outputs": [],
   "source": [
    "# Remove any unwanted characters in the street by finding the first digit\n",
    "def cleanStreet(x):\n",
    "    try:\n",
    "        index = re.search(\"\\d\", x)\n",
    "        return x[index.start():]\n",
    "    except:\n",
    "        return x"
   ]
  },
  {
   "cell_type": "code",
   "execution_count": null,
   "metadata": {},
   "outputs": [],
   "source": [
    "# Extract the first name by splitting at the comma \n",
    "df['First Name'] = df['FULLNAME'].map(lambda x: x.split(',')[1])\n",
    "\n",
    "# Extract the first name by splitting at the comma \n",
    "df['Last Name'] = df['FULLNAME'].map(lambda x: x.split(',')[0])\n",
    "\n",
    "# Extract the street\n",
    "df['Street'] = df['OFFICE_ADDRESS'].map(cleanStreet)\n",
    "\n",
    "# Rename the cols to be more readable\n",
    "df.rename(columns={\n",
    "    'OFFICE_CITY' : 'City',\n",
    "    'OFFICE_POSTAL' : 'Postal Code',\n",
    "    'SPECIALTY' : 'Specialty' \n",
    "}, inplace=True)\n",
    "\n",
    "# Drop the cols we dont need\n",
    "df.drop(columns={'FULLNAME', 'OFFICE_ADDRESS', 'OFFICE_PROVINCE', 'CERTIFICATION', 'RL_EXPLANATION'}, inplace=True)"
   ]
  },
  {
   "cell_type": "code",
   "execution_count": null,
   "metadata": {
    "scrolled": false
   },
   "outputs": [],
   "source": [
    "df.to_csv(file, index=False)"
   ]
  }
 ],
 "metadata": {
  "kernelspec": {
   "display_name": "Python 3",
   "language": "python",
   "name": "python3"
  },
  "language_info": {
   "codemirror_mode": {
    "name": "ipython",
    "version": 3
   },
   "file_extension": ".py",
   "mimetype": "text/x-python",
   "name": "python",
   "nbconvert_exporter": "python",
   "pygments_lexer": "ipython3",
   "version": "3.6.8"
  }
 },
 "nbformat": 4,
 "nbformat_minor": 2
}
