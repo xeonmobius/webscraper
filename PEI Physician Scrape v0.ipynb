{
 "cells": [
  {
   "cell_type": "code",
   "execution_count": null,
   "metadata": {},
   "outputs": [],
   "source": [
    "import time as time\n",
    "import pandas as pd\n",
    "\n",
    "from selenium import webdriver "
   ]
  },
  {
   "cell_type": "code",
   "execution_count": null,
   "metadata": {},
   "outputs": [],
   "source": [
    "url = 'http://search.cpspei.ca/physician_search?lname=&cat=-1&btn_submit=Search&member_page='\n",
    "\n",
    "# Create an empty global dataframe\n",
    "df = pd.DataFrame()"
   ]
  },
  {
   "cell_type": "code",
   "execution_count": null,
   "metadata": {},
   "outputs": [],
   "source": [
    "option = webdriver.ChromeOptions()\n",
    "option.add_argument('-incognito')\n",
    "\n",
    "browser = webdriver.Chrome(executable_path='../chromedriver', chrome_options=option)"
   ]
  },
  {
   "cell_type": "code",
   "execution_count": null,
   "metadata": {},
   "outputs": [],
   "source": [
    "for i in range(1, 16):\n",
    "    \n",
    "    # go to ith page\n",
    "    browser.get(url+str(i))\n",
    "    \n",
    "    # Grab the table with the doctors\n",
    "    table = browser.find_element_by_xpath(\"//table[@cellspacing='0' and @cellpadding='2']\")\n",
    "    \n",
    "    # Get the a tags\n",
    "    aList = table.find_elements_by_tag_name('a')\n",
    "    \n",
    "    # Get the urls for the doctor's profile\n",
    "    for i in range(len(aList)):\n",
    "        aList[i] = aList[i].get_attribute('href')\n",
    "    \n",
    "    # Go to each dr profile page and extract information\n",
    "    for a in aList:\n",
    "        \n",
    "        # Go to the doctors url profile\n",
    "        browser.get(a)\n",
    "        \n",
    "        # Get the info needed from the profile\n",
    "        name = browser.find_element_by_tag_name('h1').text\n",
    "        info = browser.find_elements_by_tag_name('tbody')[1].text\n",
    "        \n",
    "        # pack into a dictionary\n",
    "        data = {'Name': name,\n",
    "                'Info': info}\n",
    "        \n",
    "        # Save the dictionary into the global dataframe\n",
    "        df = df.append(data, ignore_index=True)\n",
    "        time.sleep(1)"
   ]
  },
  {
   "cell_type": "code",
   "execution_count": null,
   "metadata": {},
   "outputs": [],
   "source": [
    "df.to_csv('./csv/PEI Physician.csv', index=False)"
   ]
  }
 ],
 "metadata": {
  "kernelspec": {
   "display_name": "Python 3",
   "language": "python",
   "name": "python3"
  },
  "language_info": {
   "codemirror_mode": {
    "name": "ipython",
    "version": 3
   },
   "file_extension": ".py",
   "mimetype": "text/x-python",
   "name": "python",
   "nbconvert_exporter": "python",
   "pygments_lexer": "ipython3",
   "version": "3.6.8"
  }
 },
 "nbformat": 4,
 "nbformat_minor": 2
}
