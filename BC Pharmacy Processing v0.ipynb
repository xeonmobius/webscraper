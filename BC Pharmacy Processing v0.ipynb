{
 "cells": [
  {
   "cell_type": "code",
   "execution_count": null,
   "metadata": {},
   "outputs": [],
   "source": [
    "import pandas as pd\n",
    "import re"
   ]
  },
  {
   "cell_type": "code",
   "execution_count": null,
   "metadata": {},
   "outputs": [],
   "source": [
    "file = './csv/BC Pharmacy.csv'\n",
    "df = pd.read_csv(file)\n",
    "\n",
    "# Loads a list of BC cities\n",
    "cities = pd.read_csv('./res/BC Cities.csv')"
   ]
  },
  {
   "cell_type": "code",
   "execution_count": null,
   "metadata": {},
   "outputs": [],
   "source": [
    "# Use regexp to extract the postal code\n",
    "def extractPostalCode(x):\n",
    "    pattern = r\"[a-zA-z]\\d[a-zA-z]\\s\\d[a-zA-z]\\d\"\n",
    "    try: \n",
    "        result = re.search(pattern, x).group()\n",
    "    except:\n",
    "        result = \"None\"\n",
    "    return  result\n",
    "\n",
    "# use the cities list to determine the city \n",
    "def extractCity(x):\n",
    "    for i in range(len(cities)):\n",
    "        if cities.loc[i, 'Cities'] in x:\n",
    "            return cities.loc[i, 'Cities']\n",
    "\n",
    "# Extracts the street but also removes the city that gets attached at the end\n",
    "def extractStreet(x):\n",
    "    street = x.split(',')[0]\n",
    "    for i in range(len(cities)):\n",
    "        if cities.loc[i, 'Cities'] in street:\n",
    "            return street.replace(cities.loc[i, 'Cities'], '')\n",
    "    return street"
   ]
  },
  {
   "cell_type": "code",
   "execution_count": null,
   "metadata": {},
   "outputs": [],
   "source": [
    "# Extract the postal code\n",
    "df['Postal Code'] = df['Address'].map(extractPostalCode)\n",
    "\n",
    "# Extract the city from the address\n",
    "df['City'] = df['Address'].map(extractCity)\n",
    "\n",
    "# Extract the street\n",
    "df['Street'] = df['Address'].map(extractStreet)\n",
    "\n",
    "# Drop the unneeded cols\n",
    "df.drop(columns={'Fax', 'Manager', 'Phone', 'Address'}, inplace=True)"
   ]
  },
  {
   "cell_type": "code",
   "execution_count": null,
   "metadata": {
    "scrolled": false
   },
   "outputs": [],
   "source": [
    "df.to_csv(file, index=False)"
   ]
  }
 ],
 "metadata": {
  "kernelspec": {
   "display_name": "Python 3",
   "language": "python",
   "name": "python3"
  },
  "language_info": {
   "codemirror_mode": {
    "name": "ipython",
    "version": 3
   },
   "file_extension": ".py",
   "mimetype": "text/x-python",
   "name": "python",
   "nbconvert_exporter": "python",
   "pygments_lexer": "ipython3",
   "version": "3.6.8"
  }
 },
 "nbformat": 4,
 "nbformat_minor": 2
}
