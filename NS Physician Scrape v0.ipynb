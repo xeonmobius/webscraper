{
 "cells": [
  {
   "cell_type": "code",
   "execution_count": null,
   "metadata": {},
   "outputs": [],
   "source": [
    "import time as time\n",
    "import pandas as pd\n",
    "import os\n",
    "\n",
    "from selenium import webdriver "
   ]
  },
  {
   "cell_type": "code",
   "execution_count": null,
   "metadata": {},
   "outputs": [],
   "source": [
    "# Helper function to save data from memory to disk\n",
    "def appendToFile(filepath, df):\n",
    "    header = True\n",
    "    # If file exist then don't add the header\n",
    "    if os.path.isfile(filePath):\n",
    "        header = False\n",
    "        \n",
    "    df.to_csv(filePath, mode='a', header=header, index=False)"
   ]
  },
  {
   "cell_type": "code",
   "execution_count": null,
   "metadata": {},
   "outputs": [],
   "source": [
    "url = 'http://cpsnsphysiciansearch.azurewebsites.net/SearchResults.aspx'\n",
    "\n",
    "# Create an empty global list\n",
    "df = pd.DataFrame()"
   ]
  },
  {
   "cell_type": "code",
   "execution_count": null,
   "metadata": {},
   "outputs": [],
   "source": [
    "option = webdriver.ChromeOptions()\n",
    "option.add_argument('-incognito')\n",
    "\n",
    "browser = webdriver.Chrome(executable_path='../chromedriver', chrome_options=option)"
   ]
  },
  {
   "cell_type": "code",
   "execution_count": null,
   "metadata": {
    "scrolled": true
   },
   "outputs": [],
   "source": [
    "# Go to search page\n",
    "browser.get(url)\n",
    "\n",
    "# Wait for the page to load\n",
    "time.sleep(1)\n",
    "\n",
    "# Click on the view options button\n",
    "browser.find_element_by_xpath(\"//button[@class='btn btn-default dropdown-toggle']\").click()\n",
    "\n",
    "# Click on all in the drop down menu\n",
    "browser.find_element_by_xpath(\"//a[contains(text(), 'All')]\").click()\n",
    "\n",
    "# Wait 5 seconds for all the rows to laod\n",
    "time.sleep(3)\n",
    "\n",
    "# Grab the table that has the doctors \n",
    "table = browser.find_element_by_xpath(\"//table[@id='grid-basic']\")\n",
    "\n",
    "# Grab the a tags to all the doctor profiles\n",
    "aList = table.find_elements_by_tag_name('a')\n",
    "\n",
    "# Grab the urls from each a tag at the same time splice out the headers\n",
    "urls = list(map(lambda x: x.get_attribute('href'), aList[2:]))\n",
    "\n",
    "#Loop through each link\n",
    "for aLink in urls:\n",
    "    # Go to link\n",
    "    browser.get(aLink)\n",
    "    time.sleep(2)\n",
    "    \n",
    "    # If there is any info try to scrape the data\n",
    "    try:\n",
    "        # Scrape the info\n",
    "        licence = browser.find_element_by_id('MainContent_frmlicencetype').get_attribute(\"value\")\n",
    "        address = browser.find_element_by_id('MainContent_frmbusinessaddress').get_attribute(\"value\")\n",
    "        firstName = browser.find_element_by_id('MainContent_frmgivenname').get_attribute(\"value\")\n",
    "        lastName = browser.find_element_by_id('MainContent_frmsurname').get_attribute(\"value\")\n",
    "        licenceNumber = int(aLink.split('=')[1].strip('0'))\n",
    "        \n",
    "        # Package the info\n",
    "        data = {\n",
    "            'Licence Status': licence,\n",
    "            'Address': address,\n",
    "            'First Name': firstName,\n",
    "            'Last Name': lastName,\n",
    "            'Licence Number': licenceNumber\n",
    "        }\n",
    "        \n",
    "        # Append it to the main dataframe\n",
    "        df = df.append(data, ignore_index=True)\n",
    "    except:\n",
    "        print('failed')\n",
    "        \n",
    "    \n",
    "    # Free up RAM space\n",
    "    del licence, address, firstName, lastName, licenceNumber"
   ]
  },
  {
   "cell_type": "code",
   "execution_count": null,
   "metadata": {},
   "outputs": [],
   "source": [
    "df.to_csv('./csv/NS Physicians.csv', index=False)"
   ]
  }
 ],
 "metadata": {
  "kernelspec": {
   "display_name": "Python 3",
   "language": "python",
   "name": "python3"
  },
  "language_info": {
   "codemirror_mode": {
    "name": "ipython",
    "version": 3
   },
   "file_extension": ".py",
   "mimetype": "text/x-python",
   "name": "python",
   "nbconvert_exporter": "python",
   "pygments_lexer": "ipython3",
   "version": "3.6.8"
  }
 },
 "nbformat": 4,
 "nbformat_minor": 2
}
