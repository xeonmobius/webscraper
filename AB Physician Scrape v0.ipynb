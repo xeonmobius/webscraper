{
 "cells": [
  {
   "cell_type": "code",
   "execution_count": null,
   "metadata": {},
   "outputs": [],
   "source": [
    "import time as time\n",
    "import pandas as pd\n",
    "import os\n",
    "\n",
    "from selenium import webdriver "
   ]
  },
  {
   "cell_type": "code",
   "execution_count": null,
   "metadata": {},
   "outputs": [],
   "source": [
    "url = 'https://search.cpsa.ca/PhysicianSearch'"
   ]
  },
  {
   "cell_type": "code",
   "execution_count": null,
   "metadata": {},
   "outputs": [],
   "source": [
    "# Helper function that will help us write data to disk by appending\n",
    "def appendToFile(filePath, df):\n",
    "    header = True    \n",
    "    # If file exist don't append the header \n",
    "    if os.path.isfile(filePath):\n",
    "        header = False\n",
    "        \n",
    "    df.to_csv(filePath, mode='a', header=header, index=False)"
   ]
  },
  {
   "cell_type": "code",
   "execution_count": null,
   "metadata": {},
   "outputs": [],
   "source": [
    "option = webdriver.ChromeOptions()\n",
    "option.add_argument('-incognito')\n",
    "\n",
    "browser = webdriver.Chrome(executable_path='../chromedriver', chrome_options=option)"
   ]
  },
  {
   "cell_type": "code",
   "execution_count": null,
   "metadata": {
    "scrolled": true
   },
   "outputs": [],
   "source": [
    "# Tell browser to go to search page\n",
    "browser.get(url)\n",
    "\n",
    "# Wait for the button to load\n",
    "time.sleep(1)\n",
    "\n",
    "# Click on the button for a global search\n",
    "browser.find_element_by_id('MainContent_physicianSearchView_btnSearch').click()\n",
    "\n",
    "# Takes the site on average 7s to load completely\n",
    "time.sleep(7)\n",
    "\n",
    "# Tell the browser to get the printer version so all the doctors are on page without any CSS\n",
    "browser.get('https://search.cpsa.ca/PrinterFriendlyResults.aspx')\n",
    "\n",
    "# Takes 20s for the browser to load the entire print version\n",
    "time.sleep(20)\n",
    "\n",
    "# Find the table element\n",
    "table = browser.find_element_by_id('printerFriendlySearchResultsView_gvResults')\n",
    "\n",
    "# Create the list of table rows\n",
    "trList = table.find_elements_by_tag_name('tr')\n",
    "\n",
    "# Remove the header row\n",
    "trList = trList[1:]"
   ]
  },
  {
   "cell_type": "code",
   "execution_count": null,
   "metadata": {},
   "outputs": [],
   "source": [
    "# For each row start scrapping the info\n",
    "for i in range(len(trList)):\n",
    "\n",
    "    # Checks if df exists in local scope and creates one if not\n",
    "    if 'df' not in locals():\n",
    "        df = pd.DataFrame()\n",
    "        \n",
    "    # grab the column string values at the i'th row\n",
    "    status = trList[i].find_elements_by_tag_name('td')[0].text\n",
    "    name = trList[i].find_elements_by_tag_name('td')[1].text\n",
    "    location = trList[i].find_elements_by_tag_name('td')[2].text\n",
    "    practiceDiscipline = trList[i].find_elements_by_tag_name('td')[3].text\n",
    "    gender = trList[i].find_elements_by_tag_name('td')[4].text\n",
    "    language = trList[i].find_elements_by_tag_name('td')[5].text\n",
    "    \n",
    "    # Package the variables into a dict\n",
    "    data = {'Status' : status, \n",
    "            'Name' : name, \n",
    "            'Location' : location, \n",
    "            'Specialty' : practiceDiscipline, \n",
    "            'Gender' : gender, \n",
    "            'Languages' : language}\n",
    "    \n",
    "    # Append the data to the df\n",
    "    df = df.append(data, ignore_index=True)\n",
    "    \n",
    "    # if 1000 items have been iterated then append the df in memory and delete df to free up ram space\n",
    "    if i % 1000 == 0:\n",
    "        appendToFile('./csv/AB Physician.csv', df)\n",
    "        del df"
   ]
  },
  {
   "cell_type": "code",
   "execution_count": null,
   "metadata": {},
   "outputs": [],
   "source": []
  }
 ],
 "metadata": {
  "kernelspec": {
   "display_name": "Python 3",
   "language": "python",
   "name": "python3"
  },
  "language_info": {
   "codemirror_mode": {
    "name": "ipython",
    "version": 3
   },
   "file_extension": ".py",
   "mimetype": "text/x-python",
   "name": "python",
   "nbconvert_exporter": "python",
   "pygments_lexer": "ipython3",
   "version": "3.6.8"
  }
 },
 "nbformat": 4,
 "nbformat_minor": 2
}
