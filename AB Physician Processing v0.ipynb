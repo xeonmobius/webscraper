{
 "cells": [
  {
   "cell_type": "code",
   "execution_count": 3,
   "metadata": {},
   "outputs": [],
   "source": [
    "import pandas as pd\n",
    "import re"
   ]
  },
  {
   "cell_type": "code",
   "execution_count": 4,
   "metadata": {},
   "outputs": [],
   "source": [
    "file = './csv/AB Physician.csv'\n",
    "df = pd.read_csv(file)"
   ]
  },
  {
   "cell_type": "code",
   "execution_count": 5,
   "metadata": {},
   "outputs": [],
   "source": [
    "# Use regexp to match the postal code pattern and extract it\n",
    "def extractPostalCode(x):\n",
    "    pattern = r\"[a-zA-z]\\d[a-zA-z]\\s\\d[a-zA-z]\\d\"\n",
    "    try: \n",
    "        result = re.search(pattern, x).group()\n",
    "    except:\n",
    "        result = \"None\"\n",
    "    return  result\n",
    "\n",
    "# Extract city by spliting the string by \\n and then checking which split has the word Canada\n",
    "# We then split that canada containing split again to find the city\n",
    "def extractCity(location):\n",
    "    splits = location.split('\\n')\n",
    "    for i in range(len(splits)):\n",
    "        if 'Canada' in splits[i]:\n",
    "            return splits[i].split(',')[0]"
   ]
  },
  {
   "cell_type": "code",
   "execution_count": 7,
   "metadata": {},
   "outputs": [],
   "source": [
    "# Remove Langauges, Status cols from the dataframe\n",
    "df.drop(columns={'Gender', 'Languages', 'Status'}, axis=1, inplace=True)\n",
    "\n",
    "# Remove all entries that had removed their contact info\n",
    "df = df[df['Location'].str.contains('Contact information')!= True]"
   ]
  },
  {
   "cell_type": "code",
   "execution_count": 14,
   "metadata": {},
   "outputs": [],
   "source": [
    "# Create the column Postal Codes by extracting the info using regexp from location column\n",
    "df['Postal Code'] = df['Location'].map(extractPostalCode)\n",
    "\n",
    "# Extract the first and last name from the name column and remove 'Dr' title\n",
    "df['First Name'] = df['Name'].map(lambda x: x.split(',')[1].replace('Dr. ', ''))\n",
    "df['Last Name'] = df['Name'].map(lambda x: x.split(',')[0])\n",
    "\n",
    "# Extract the Street Address from location columns\n",
    "df['Street'] = df['Location'].map(lambda x: x.split('\\r')[0])\n",
    "\n",
    "# Extract the City from location columns\n",
    "df['City'] = df['Location'].map(extractCity)\n",
    "\n",
    "# Drop the location column because we have extracted everything\n",
    "df.drop(columns={'Location', 'Name'}, inplace=True)"
   ]
  },
  {
   "cell_type": "code",
   "execution_count": 16,
   "metadata": {},
   "outputs": [],
   "source": [
    "df.to_csv(file, index=False)"
   ]
  }
 ],
 "metadata": {
  "kernelspec": {
   "display_name": "Python 3",
   "language": "python",
   "name": "python3"
  },
  "language_info": {
   "codemirror_mode": {
    "name": "ipython",
    "version": 3
   },
   "file_extension": ".py",
   "mimetype": "text/x-python",
   "name": "python",
   "nbconvert_exporter": "python",
   "pygments_lexer": "ipython3",
   "version": "3.6.8"
  }
 },
 "nbformat": 4,
 "nbformat_minor": 2
}
